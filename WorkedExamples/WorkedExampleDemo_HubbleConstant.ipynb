{
 "cells": [
  {
   "cell_type": "markdown",
   "id": "a66dd58c",
   "metadata": {},
   "source": [
    "# Week 7 Exercise: Calculate the Hubble expansion rate with least-squares fitting"
   ]
  },
  {
   "cell_type": "code",
   "execution_count": 1,
   "id": "95dc5486",
   "metadata": {},
   "outputs": [],
   "source": [
    "# NO NEED to run the two lines below. They enable equation referencing across markdown cells in Jupyter"
   ]
  },
  {
   "cell_type": "code",
   "execution_count": 2,
   "id": "5f8408fb",
   "metadata": {},
   "outputs": [
    {
     "data": {
      "application/javascript": [
       "MathJax.Hub.Config({\n",
       "    TeX: { equationNumbers: { autoNumber: \"AMS\" } }\n",
       "});\n"
      ],
      "text/plain": [
       "<IPython.core.display.Javascript object>"
      ]
     },
     "metadata": {},
     "output_type": "display_data"
    }
   ],
   "source": [
    "%%javascript\n",
    "MathJax.Hub.Config({\n",
    "    TeX: { equationNumbers: { autoNumber: \"AMS\" } }\n",
    "});"
   ]
  },
  {
   "cell_type": "code",
   "execution_count": 3,
   "id": "661e536d",
   "metadata": {},
   "outputs": [
    {
     "data": {
      "application/javascript": [
       "MathJax.Hub.Queue(\n",
       "  [\"resetEquationNumbers\", MathJax.InputJax.TeX],\n",
       "  [\"PreProcess\", MathJax.Hub],\n",
       "  [\"Reprocess\", MathJax.Hub]\n",
       ");\n"
      ],
      "text/plain": [
       "<IPython.core.display.Javascript object>"
      ]
     },
     "metadata": {},
     "output_type": "display_data"
    }
   ],
   "source": [
    "%%javascript\n",
    "MathJax.Hub.Queue(\n",
    "  [\"resetEquationNumbers\", MathJax.InputJax.TeX],\n",
    "  [\"PreProcess\", MathJax.Hub],\n",
    "  [\"Reprocess\", MathJax.Hub]\n",
    ");"
   ]
  },
  {
   "cell_type": "markdown",
   "id": "87c0f9f3",
   "metadata": {},
   "source": [
    "# Introduction: Hubble's Law, measuring the expansion rate of the Universe"
   ]
  },
  {
   "cell_type": "markdown",
   "id": "7e3c5563",
   "metadata": {},
   "source": [
    "### In this exercise we will repeat the measurement of the expansion rate of the Universe originally performed by Edwin Hubble in 1929.\n",
    "\n",
    "Hubble measured both redshifts $z$ and distances $D$ for 20 galaxies.\n",
    "\n",
    "The redshift of a galaxy is defined as:\n",
    "\\begin{equation}\n",
    "    z \\equiv \\frac{\\lambda_{\\text{observed}}- \\lambda_{\\text{emitted}}}{\\lambda_{\\text{emitted}}} ,\n",
    "\\end{equation}\n",
    "where $\\lambda_{\\text{observed}}$ is the wavelength of light we observe for a given feature in the galaxy's spectrum (i.e. absorption line), and $\\lambda_{\\text{emitted}}$ is the wavelength at which that feature was emitted (we can usually identify absorption lines of well-known energy transitions in a galaxy's spectrum).\n",
    "\n",
    "The redshift of the light we observe from a galaxy can be due to the velocity of that galaxy relative to us, via the Doppler effect.\n",
    "\n",
    "As we will see in this exercise, the observed light of a galaxy can also redshift due to the expansion of the Universe, in a way that is proportional to the distance that galaxy is away from us, as Hubble discovered in his groundbreaking discovery.\n",
    "\n",
    "At the time when Hubble made his study of whether a galaxy's redshit depends on its distance from us, it was commonly believed that the Universe was static and unchanging. Hubble had in mind to investigate the motion of galaxies relative to Earth to understand the structure and dynamics of the universe. He made the following plot of redshift versus distance (from Hubble 1929, Proc. Nat. Acad. Sci., 15, 168):"
   ]
  },
  {
   "attachments": {},
   "cell_type": "markdown",
   "id": "468f23cc",
   "metadata": {},
   "source": [
    "<div>\n",
    "<img src=\"Hubble_dat.png\" width=\"500\"/>\n",
    "</div>"
   ]
  },
  {
   "cell_type": "markdown",
   "id": "2612294f",
   "metadata": {},
   "source": [
    "The vertical axis of Hubble's plot of galaxy redshift vs. distance above is actually given in terms of velocity. That's because Hubble interpreted redshifts as Doppler shifts, so he used the classical, nonrelativistic relation for the Doppler shift, $z=v/c$, where $v$ is the radial velocity of the light source (galaxy). Interpreting the redshifts as Doppler shifts this way, Hubble's famous law takes the form:\n",
    "\n",
    "\\begin{equation}\n",
    "    v = H_{0} D ,\n",
    "\\end{equation}\n",
    "\n",
    "where $H_{0}$ is the constant of proportionality between galaxy \"redshift\" $v$ and distance $D$. $H_{0}$ is derived by finding the slope of that line which is plotted over the data in Hubble's plot above. In this exercise we will see exactly how to find the slope of that line and calculate $H_{0}$."
   ]
  },
  {
   "cell_type": "markdown",
   "id": "c11c1fce",
   "metadata": {},
   "source": [
    "Hubble's discovery at the time was shocking. It implied that all the galaxies in Hubble's data set are moving away from us, at velocities proportional to their distances (with $H_{0}$ the constant of proportionality), the farthest galaxies moving away from us the fastest. Thus the expansion of the Universe was discovered."
   ]
  },
  {
   "cell_type": "markdown",
   "id": "c64babb0",
   "metadata": {},
   "source": [
    "It is a subtle distinction, but in fact the more correct form of Hubble's law is in terms of redshift:\n",
    "\n",
    "\\begin{equation}\n",
    "    z = \\frac{H_{0}}{c} D .\n",
    "\\end{equation}\n",
    "\n",
    "That's because the redshift in Hubble's law does not describe the literal velocity through space of a galaxy relative to us. Rather, the cosmological redshift of the light of distant galaxies measured by Hubble is primarily due to the expansion of space itself, a consequence of the overall spacetime expansion of the Universe.\n"
   ]
  },
  {
   "cell_type": "markdown",
   "id": "74733612",
   "metadata": {},
   "source": [
    "Today we will directly measure the rate of that expansion, $H_{0}$, using the data fitting methods we discussed in our previous classes."
   ]
  },
  {
   "cell_type": "markdown",
   "id": "cb3ac2dd",
   "metadata": {},
   "source": [
    "### We will measure the expansion rate of the Universe using Type Ia Supernovae data from the Supernova Cosmology Project (SCP)\n",
    "One of the key findings of the SCP is strong evidence for the existence of dark energy, which drives the expansion of the Universe to accelerate. The SCP team obtained this result by measuring the distances and redshifts of Type Ia Supernovae, climbing the cosmological distance ladder out to very far scales. Since, as we just described, the Supernova's redshift is a direct measure of how much the space through which its light has travelled has been stretched by the Universe's expansion, this measurement allowed the SCP team to determine the expansion rate of the Universe at various epochs. They found the Universe's expansion to be accelerating. "
   ]
  },
  {
   "cell_type": "markdown",
   "id": "f4660299",
   "metadata": {},
   "source": [
    "We will use the SCP data to repeat the original analysis of Hubble, to calculate the expansion rate of the Universe at the present day."
   ]
  },
  {
   "cell_type": "markdown",
   "id": "8e71e090",
   "metadata": {},
   "source": [
    "Also, you might ask, why did the SCP team focus on observations of Type Ia Supernovae in order to study the expansion of the Universe out to large distances? The answer is because: not only are Type Ia Supernovae among the most luminous objects in the Universe, they are also robust distance indicators, called \"Standard Candles\". This is because, due to their specific explosion mechanism, Type Ia Supernovae have a consistent peak luminosity. Therefore, by measuring the luminosity magnitudes of these Supernovae we can infer the distance to the Supernova, out to very large distances."
   ]
  },
  {
   "cell_type": "markdown",
   "id": "44795644",
   "metadata": {},
   "source": [
    "# Outline of this Exercise\n",
    "### Before getting into it, a quick outline of what is to come:\n",
    "\n",
    "## In Section 1: \n",
    "      We read in data for the redshift vs. distance modulus of Type Ia SNe from the SCP catalog using the Pandas module. We will convert the data into a suitable form for our analysis, using basic error propagation. We will also visualize the data, identify a subset of the data at low redshifts appropriate for our analysis, and discuss the general principle of our analysis.\n",
    "      \n",
    "## In Section 2:\n",
    "      We derive the relevant equations for an unweighted linear least-squares fit, introducing several immportant concepts such as the Chi-squared parameter. Then we apply an unweighted linear least-squares fit to the SCP SNe data (with simplified uncertainties to accomodate the assumptions of an unweighted fit) in order to calculate the Hubble constant $H_{0}$, and we calculate the uncertainty of our measurement.\n",
    "      \n",
    "## In Section 3:\n",
    "      We present the relevant equations for a weighted linear least-squares fit, and write a code to perform the weighted least-squares fit to the SCP SNe data, for a more accurate treatment of the uncertainties in the SNe data. From our fit we more accurately calculate the Hubble constant $H_{0}$, along with the uncertainty of our measurement.\n",
    "      \n",
    "## In Section 4: \n",
    "      We calculate the Hubble constant $H_{0}$, along with its uncertainty, by fitting a linear distribution to the SCP SNe data using scipy.optimize.curve_fit, and compare our result with the current measurement of $H_{0}$ from Planck.\n",
    "       \n",
    "## In Section 5: \n",
    "        We present the Chi-squared test for a fit distribution, and apply it to our linear fit to the SNe data to quantify how well the linear distribution we calculate describes the data. We also compare the distribution of residuals of data from our linear fit with a normal distribution, visualizing the accuracy of our fit to the data.\n",
    "        \n",
    "### Now let's start!      "
   ]
  },
  {
   "cell_type": "markdown",
   "id": "7d77528d",
   "metadata": {},
   "source": [
    "# Section 1: Read, visualize and process the data"
   ]
  },
  {
   "cell_type": "markdown",
   "id": "1f62916a",
   "metadata": {},
   "source": [
    "Import the external libraries we will use"
   ]
  },
  {
   "cell_type": "code",
   "execution_count": 4,
   "id": "4d91d593",
   "metadata": {},
   "outputs": [],
   "source": [
    "import math\n",
    "import numpy as np\n",
    "import pandas as pd\n",
    "import matplotlib.pyplot as plt\n",
    "from scipy import stats"
   ]
  },
  {
   "cell_type": "markdown",
   "id": "16c64236",
   "metadata": {},
   "source": [
    "First we will **read in the data**. As we saw before, there are multiple ways to do this. This time we will read in the data using **pandas**. Notice that the first five lines of the data file are header information, so we skip those lines while reading in the data using the **\"skiprows\"** command. Then we convert the data into **numpy arrays** to use in our analysis."
   ]
  },
  {
   "cell_type": "code",
   "execution_count": 5,
   "id": "7e4f5619",
   "metadata": {},
   "outputs": [
    {
     "name": "stdout",
     "output_type": "stream",
     "text": [
      "       name  Redshift  DistanceMod  DistanceModErrp  DistanceModErrm\n",
      "0    1993ah  0.028488    35.346583         0.223906         0.128419\n",
      "1    1993ag  0.050043    36.682368         0.166829         0.128419\n",
      "2     1993o  0.052926    36.817691         0.155756         0.128419\n",
      "3     1993b  0.070086    37.446737         0.158467         0.128419\n",
      "4    1992bs  0.062668    37.483409         0.156099         0.128419\n",
      "..      ...       ...          ...              ...              ...\n",
      "575   D-000  1.017000    44.293971         0.171046         0.000015\n",
      "576   D-006  1.315000    44.971358         0.187509         0.551672\n",
      "577   P-009  0.821000    43.640939         0.194014         0.551672\n",
      "578   R-012  1.215000    45.246521         0.560317         0.000148\n",
      "579   Z-005  0.623000    42.514524         0.241428         0.551672\n",
      "\n",
      "[580 rows x 5 columns]\n",
      "name                object\n",
      "Redshift           float64\n",
      "DistanceMod        float64\n",
      "DistanceModErrp    float64\n",
      "DistanceModErrm    float64\n",
      "dtype: object\n"
     ]
    }
   ],
   "source": [
    "#Supernova data is in the format: name, redshift, distance modulus, distance modulus uncertainty\n",
    "#Read it using Pandas module\n",
    "df=pd.read_csv('SCPUnion2.1_mu_vs_z.txt', skiprows=[0,1,2,3,4], sep='\\t',names=['name','Redshift','DistanceMod','DistanceModErrp','DistanceModErrm'])\n",
    "print(df)\n",
    "\n",
    "#see how pandas interpreted data types to make sure its correct; we want the data to be float64\n",
    "print(df.dtypes)\n",
    "#make arrays out of the data using NumPy\n",
    "Redshift=np.array(df.Redshift)\n",
    "DistanceMod=np.array(df.DistanceMod)\n",
    "DistanceModErrp=np.array(df.DistanceModErrp)\n",
    "DistanceModErrm=np.array(df.DistanceModErrm)\n",
    "\n",
    "#combine plus/minus uncertainties in Distance Modulus into a single array of plus/minus errors using np.stack\n",
    "#Also notice that we transpose the array in order to match the shape of Redshift and DistanceMod arrays\n",
    "DistanceModErr=np.stack((DistanceModErrp,DistanceModErrm),axis=1).T"
   ]
  },
  {
   "cell_type": "markdown",
   "id": "9b68ddf8",
   "metadata": {},
   "source": [
    "The data Distance vs. Redshift data from Supernova cosmology project gives distance in terms of **Distance Modulus** $\\mu$, a quantity used by cosmologists to describe distances on a logarithmic scale. The distance modulus is the difference between the apparent and absolute magnitudes, $m$ and $M$, respectively, of an astronomical object:"
   ]
  },
  {
   "cell_type": "markdown",
   "id": "8c96a69a",
   "metadata": {},
   "source": [
    "\\begin{equation}\n",
    "    \\mu = m - M\n",
    "\\end{equation}"
   ]
  },
  {
   "cell_type": "markdown",
   "id": "4253bb5c",
   "metadata": {},
   "source": [
    "However, it is more convenient for our purposes to describe distances in units of physical length (e.g. meters, parsec, etc.). The Distance Modulus is related to the **Luminosity Distance** $D_{L}$ (measured in parsec) by the relation:"
   ]
  },
  {
   "cell_type": "markdown",
   "id": "6d4ac804",
   "metadata": {},
   "source": [
    "\\begin{equation}\n",
    "    \\log_{10} D_{L} = 1 + \\frac{\\mu}{5}\n",
    "\\end{equation}"
   ]
  },
  {
   "cell_type": "markdown",
   "id": "a9c96cce",
   "metadata": {},
   "source": [
    "So let us convert our data from Distance Modulus to Luminosity Distance (in parsec) by **defining the following function**:"
   ]
  },
  {
   "cell_type": "code",
   "execution_count": 6,
   "id": "bee8cc56",
   "metadata": {},
   "outputs": [],
   "source": [
    "#Let's convert from distance modulus to distance using the formula above\n",
    "def DistConv(x):\n",
    "    #x: an integer, float, or array that represents Distance Modulus\n",
    "    #returns: Luminosity Distance (parsec)\n",
    "    powr=x/5+1\n",
    "    return 10**powr"
   ]
  },
  {
   "cell_type": "markdown",
   "id": "79c88900",
   "metadata": {},
   "source": [
    "which we apply to the data array of measurements of Distance Modulus:"
   ]
  },
  {
   "cell_type": "code",
   "execution_count": 7,
   "id": "8a1f25cd",
   "metadata": {},
   "outputs": [],
   "source": [
    "Distance=DistConv(DistanceMod)"
   ]
  },
  {
   "cell_type": "markdown",
   "id": "69b13fbd",
   "metadata": {},
   "source": [
    "We must also convert the uncertainties in Distance Modulus given in the data above to uncertainties in Luminosity Distance. Recall from Taylor Section 3.7 that, provided the uncertainties in question are small (compared to the measured values they correspond to), then **the following relation holds between uncertaintes $\\delta q$ and $\\delta x$ for $q \\left( x \\right)$ a function of $x$**:"
   ]
  },
  {
   "attachments": {},
   "cell_type": "markdown",
   "id": "392ac64e",
   "metadata": {},
   "source": [
    "<div>\n",
    "<img src=\"Uncertainty_1.png\" width=\"500\"/>\n",
    "</div>"
   ]
  },
  {
   "cell_type": "markdown",
   "id": "a631b48b",
   "metadata": {},
   "source": [
    "which we can use to **derive the uncertainties in Luminosity Distance from the corresponding uncertainties on Distance Modulus**:\n",
    "\\begin{equation}\n",
    "\\begin{aligned}\n",
    "    \\delta D_{L} & = \\frac{d D_{L}}{d \\mu} \\delta \\mu \\\\\n",
    "        & = \\frac{d}{d \\mu} \\left( 10^{\\frac{\\mu}{5}+1} \\right) \\delta \\mu \\\\\n",
    "        & = \\frac{\\log10}{5} 10^{\\frac{\\mu}{5}+1} \\delta \\mu ,\n",
    "\\end{aligned}\n",
    "\\end{equation}\n",
    "which we implement on our data by defining the corresponding **function**:"
   ]
  },
  {
   "cell_type": "code",
   "execution_count": 8,
   "id": "603c0e2b",
   "metadata": {},
   "outputs": [],
   "source": [
    "#Let's convert uncertainties in distance modulus to distance according to the formula above\n",
    "def DistErrConv(x,xerr):\n",
    "    #x: Distance Modulus\n",
    "    #xerr: Error in distance modulus\n",
    "    #returns: error in luminosity distance\n",
    "    powr=x/5+1\n",
    "    const=math.log(10)/5.0\n",
    "    return const*(10.0**powr)*xerr"
   ]
  },
  {
   "cell_type": "code",
   "execution_count": 9,
   "id": "5964ac24",
   "metadata": {},
   "outputs": [],
   "source": [
    "DistanceErr=DistErrConv(DistanceMod,DistanceModErr)"
   ]
  },
  {
   "cell_type": "markdown",
   "id": "5167935c",
   "metadata": {},
   "source": [
    "Now let's visualize the data and uncertainties"
   ]
  },
  {
   "cell_type": "code",
   "execution_count": 10,
   "id": "c5d0ee57",
   "metadata": {},
   "outputs": [
    {
     "data": {
      "image/png": "[encoded data removed]",
      "text/plain": [
       "<Figure size 640x480 with 1 Axes>"
      ]
     },
     "metadata": {},
     "output_type": "display_data"
    }
   ],
   "source": [
    "plt.xlabel('Redshift $z$', fontsize=15)\n",
    "plt.ylabel('Distance [parsec]', fontsize=15)\n",
    "plt.errorbar(Redshift,Distance,yerr=DistanceErr,marker='.',linestyle='None',color='black')\n",
    "plt.show()"
   ]
  },
  {
   "cell_type": "markdown",
   "id": "850ad0a0",
   "metadata": {},
   "source": [
    "The data in the plot above tell us about the expansion rate of the Universe. Now we will derive this expansion rate of the Universe by reproducing a simplified version of the groundbreaking discovery of the Universe's expansion by Edwin Hubble in 1929. As discussed in the Introduction, Hubble measured the redshifts $z$ and distances $D$ for 20 galaxies in the local Universe, and found the linear relation now known as Hubble's law:\n",
    "\\begin{equation}\n",
    "    z = \\frac{H_{0}}{c} D_{H} .\n",
    "\\label{eq:HubbleLaw}\n",
    "\\end{equation}\n",
    "Note that the distance which appears in Hubble's law, $D_{H}$, is different from the luminosity distance, $D_{L}$ which appears in our data. $D_{L}$ is the distance we measure by the amount of light detected from an object, and it takes into account the redshift of light due to the expansion of the Universe. However, Hubble's observations were measured in the local Universe, for very small values of redshift $z < 0.04$. For small values of $z \\ll 1$, $D_{H} \\simeq D_{L}$, and therefore we can use our data to approximately calculate the expansion rate of the Universe through Hubble's law, in the same way Hubble did in his original analysis.\n",
    "\n",
    "First, let's find the subset of data that only includes Supernovae in the local universe, $z < 0.1$, in order to more closely match Hubble's analysis:"
   ]
  },
  {
   "cell_type": "code",
   "execution_count": 11,
   "id": "70dde0b3",
   "metadata": {},
   "outputs": [],
   "source": [
    "#We will find the subset of data for which $z<0.1$ \n",
    "\n",
    "#define a function which takes in data arrays and returns the subset of each array corresponding to z<0.1\n",
    "#using For and If \n",
    "def LocalZs(MaxZ,Redshifts,Distances,DistanceErrs):\n",
    "    #MaxZ: the maximum redshift z you will consider in your data subset\n",
    "    #Redshifts: Redshift data array\n",
    "    #Distances: Distance data array\n",
    "    #DistanceErrs: Uncertainties in Distance data array\n",
    "    zLoc=float(MaxZ)\n",
    "    RedshiftLocs=[]\n",
    "    DistanceLocs=[]\n",
    "    DistanceErrLocs=[]\n",
    "    for i in range(len(Redshifts)):\n",
    "        if Redshift[i]<zLoc:\n",
    "            RedshiftLocs.append(Redshifts[i])\n",
    "            DistanceLocs.append(Distances[i])\n",
    "            DistanceErrLocs.append(DistanceErrs.T[i])\n",
    "    return np.array(RedshiftLocs), np.array(DistanceLocs), np.array(DistanceErrLocs).T\n",
    "\n",
    "#define the arrays of local (z<0.1) data by calling the above function\n",
    "RedshiftLoc,DistanceLoc,DistanceErrLoc=LocalZs(0.1,Redshift,Distance,DistanceErr)"
   ]
  },
  {
   "cell_type": "code",
   "execution_count": 12,
   "id": "662eb979",
   "metadata": {},
   "outputs": [
    {
     "data": {
      "image/png": "[encoded data removed]",
      "text/plain": [
       "<Figure size 640x480 with 1 Axes>"
      ]
     },
     "metadata": {},
     "output_type": "display_data"
    }
   ],
   "source": [
    "#Now plot the local data\n",
    "plt.xlabel('Redshift $z$', fontsize=15)\n",
    "plt.ylabel('Distance [parsec]', fontsize=15)\n",
    "plt.errorbar(RedshiftLoc,DistanceLoc,yerr=DistanceErrLoc,marker='.',linestyle='None',color='black')\n",
    "plt.show()"
   ]
  },
  {
   "cell_type": "markdown",
   "id": "685dbfb5",
   "metadata": {},
   "source": [
    "We have isolated the data for $z<0.01$, as shown in the plot above.\n",
    "\n",
    "Now that we have a data set similar to Hubble's, let's repeat his analysis, using **least-squares fitting**. As we've seen, there are several packages in Python which we can use to do this, but for educational purposes let's get some more practice **writing our own least-squares regression code**."
   ]
  },
  {
   "cell_type": "markdown",
   "id": "0785b226",
   "metadata": {},
   "source": [
    "# Section 2: Unweighted linear least-squares fit for the Hubble constant"
   ]
  },
  {
   "cell_type": "markdown",
   "id": "bd8820f7",
   "metadata": {},
   "source": [
    "**To start**, let's do the simplest thing and **assume uncertainties in $D_{L}$ are Gaussian and have the same magnitude for each measurement**, this is called an **unweighted** fit. This is clearly not true - the uncertainties in our data naturally become larger for greater distances, but we'll start with this simplified case to remind ourselves some of the basic theory of least-squres fitting, and later we will calculate a more accurate fit and compare the two results."
   ]
  },
  {
   "cell_type": "markdown",
   "id": "d57fddf3",
   "metadata": {},
   "source": [
    "Now let's recall some basic theory (also read Taylor Section 8.1-8.4):\n",
    "\n",
    "We have a series of measurements ${x_{i},y_{i}}$ (in our case ${z_{i},D_{L,i}}$), where $i$ runs from 1 to $N$, where $N$ is the number of measurements. We assume the relation between $y_{i}$ and $x_{i}$ follows a specific distribution, in this case we assume a linear distribution of the form:\n",
    "\\begin{equation}\n",
    "    y_{i} = A + B x_{i}\n",
    "\\label{eq:Lin}\n",
    "\\end{equation}\n",
    "for all ${x_{i},y_{i}}$ in the data.\n",
    "\n",
    "We also simplistically assume that the uncertainties in $y_{i}$, $\\delta y_{i}$ are equal for all measurements $i$ and are Gaussian distributed, $\\delta y_{i} = \\sigma_{y_{i}} = \\sigma_{y}$. Again, this clearly does not match our data, but we will make this simplifying assumption (for now).\n",
    "\n",
    "If it is true, as we assume, that a linear relation of the form above is the true distribution of the data, then the probability of obtaining each observed value of $y_{i}$ for each $x_{i}$ in our data is given by:\n",
    "\\begin{equation}\n",
    "    Prob_{A,B} \\left( y_{i} \\right) \\propto \\frac{1}{\\sigma_{y}} e^{-\\left( y_{i} - A - B x_{i} \\right)^{2}/2 \\sigma_{y}^{2}} ,\n",
    "\\end{equation}\n",
    "and the probability of obtaining the complete set of measurements in our data, ${{x_{i},y_{i}},...,{x_{N},y_{N}}}$ is given by the product of probabilities of each individual measurement:\n",
    "\\begin{equation}\n",
    "\\begin{aligned}\n",
    "    Prob_{A,B} \\left( y_{1},...,y_{N} \\right) & = Prob_{A,B} \\left( y_{i} \\right)...Prob_{A,B} \\left( y_{N} \\right) \\\\\n",
    "    & \\propto \\frac{1}{\\sigma_{y}^{N}} e^{-\\chi^{2}/2}\n",
    "\\end{aligned}\n",
    "\\end{equation}\n",
    "where the familiar Chi-squared parameter $\\chi^{2}$ is given by:\n",
    "\\begin{equation}\n",
    "    \\chi^{2} = \\sum_{i=1}^{N} \\frac{\\left(y_{i} - A - B x_{i} \\right)^{2}}{\\sigma_{y}^{2}}\n",
    "\\end{equation}"
   ]
  },
  {
   "cell_type": "markdown",
   "id": "9dd67887",
   "metadata": {},
   "source": [
    "Now, in order to **derive the unknown fit parameters $A$ and $B$** which describe this linear distribution of our data, we can use the **principle of maximum likelihood**, which says that the best estimates for the unknown parameters $A$ and $B$ are those which **minimize $\\chi^{2}$**. Then, in order to fit for $A$ and $B$ we need to minimize $\\chi^{2}$ with respect to $A$ and $B$ simultaneously:\n",
    "\n",
    "\\begin{equation}\n",
    "    \\frac{\\partial \\chi^{2}}{\\partial A} = - \\frac{2}{\\sigma_{y}^{2}} \\sum_{i=1}^{N} \\left( y_{i} - A - B x_{i} \\right) = 0\n",
    "\\end{equation}\n",
    "\n",
    "\\begin{equation}\n",
    "    \\frac{\\partial \\chi^{2}}{\\partial B} = - \\frac{2}{\\sigma_{y}^{2}} \\sum_{i=1}^{N} x_{i} \\left( y_{i} - A - B x_{i} \\right) = 0  .\n",
    "\\end{equation}"
   ]
  },
  {
   "cell_type": "markdown",
   "id": "aca17a43",
   "metadata": {},
   "source": [
    "\n",
    "Simultaneously solving the two equations above for $A$ and $B$ yields:"
   ]
  },
  {
   "cell_type": "markdown",
   "id": "db17daeb",
   "metadata": {},
   "source": [
    "\\begin{equation}\n",
    "    A = \\frac{\\sum_{i=1}^{N} x_{i}^{2} \\sum_{i=1}^{N} y_{i} - \\sum_{i=1}^{N}x_{i} \\sum_{i=1}^{N}x_{i} y_{i} }{\\Delta}\n",
    "\\label{eq:Afit}\n",
    "\\end{equation}\n",
    "\n",
    "\\begin{equation}\n",
    "    B = \\frac{N \\sum_{i=1}^{N} x_{i} y_{i} - \\sum_{i=1}^{N} x_{i} \\sum_{i=1}^{N} y_{i} }{ \\Delta}\n",
    "\\label{eq:Bfit}\n",
    "\\end{equation}\n",
    "\n",
    "where $\\Delta$ is defined as:\n",
    "\\begin{equation}\n",
    "    \\Delta \\equiv N \\sum_{i=1}^{N} x_{i}^{2} - \\left( \\sum_{i=1}^{N} x_{i} \\right)^{2}\n",
    "\\end{equation}"
   ]
  },
  {
   "cell_type": "markdown",
   "id": "cc7b525c",
   "metadata": {},
   "source": [
    "These Equations \\eqref{eq:Afit} and \\eqref{eq:Bfit} for $A$ and $B$ above give the **best estimate** of the linear relation which **we assume** describes our data, according to the **principle of maximum likelihood**. Later we will check this assumption."
   ]
  },
  {
   "cell_type": "markdown",
   "id": "d747217a",
   "metadata": {},
   "source": [
    "\n",
    "Notice: that **under this simplifying assumption of Gaussian errors that are equal for each measurement** (a drastic simplification of the real data in our case), **the fit parameters $A$ and $B$ do not depend on the error $\\sigma_{y}$**.\n"
   ]
  },
  {
   "cell_type": "markdown",
   "id": "316ef87f",
   "metadata": {},
   "source": [
    "Now let's start writing our least-squares fitting code with the relations above..."
   ]
  },
  {
   "cell_type": "code",
   "execution_count": 13,
   "id": "5aa517cf",
   "metadata": {},
   "outputs": [
    {
     "data": {
      "image/png": "[encoded data removed]",
      "text/plain": [
       "<Figure size 640x480 with 1 Axes>"
      ]
     },
     "metadata": {},
     "output_type": "display_data"
    }
   ],
   "source": [
    "#Let's write the functions which will execute our least-squares fit to the local Distance vs Redshift data\n",
    "# assuming a linear distribution, a valid assumption in the local z<0.1 Universe\n",
    "#Assuming equal Gaussian uncertainties for each Distance measurement\n",
    "#implementing the equations derived above\n",
    "\n",
    "def regressionUnweighted(xdat,ydat):\n",
    "    #fit the line ydat = A+B*xdat to the data\n",
    "    #xdat: xdata array\n",
    "    #ydat: ydata array\n",
    "    #returns: A,B of a unweighted fit of the distribution y=A+B*x to the data\n",
    "    Delta = float(len(xdat))*np.sum(xdat*xdat)-(np.sum(xdat))**2.0\n",
    "    A = (np.sum(xdat*xdat)*np.sum(ydat)-np.sum(xdat)*np.sum(xdat*ydat))/Delta\n",
    "    B = (float(len(xdat))*np.sum(xdat*ydat)-np.sum(xdat)*np.sum(ydat))/Delta\n",
    "    return A,B\n",
    "\n",
    "#Using the function above, fit a line to the local data:\n",
    "Afit,Bfit=regressionUnweighted(RedshiftLoc,DistanceLoc)\n",
    "\n",
    "#Now plot the result, along with the data for comparison:\n",
    "plt.xlabel('Redshift $z$', fontsize=15)\n",
    "plt.ylabel('Distance [parsec]', fontsize=15)\n",
    "plt.errorbar(RedshiftLoc,DistanceLoc,yerr=DistanceErrLoc,marker='.',linestyle='None',color='black')\n",
    "#define the plot variable xarr:\n",
    "xarr=np.linspace(0.0,0.1,100)\n",
    "plt.plot(xarr,Afit+Bfit*xarr)\n",
    "plt.show()"
   ]
  },
  {
   "cell_type": "markdown",
   "id": "ff80ae87",
   "metadata": {},
   "source": [
    "The result of our linear fit to the $D_{L}$vs$z$ data is plotted with a blue line over the data above. By eye it looks like a good description of the data - later we will quantify how good the linear distribution we derive describes our data."
   ]
  },
  {
   "cell_type": "markdown",
   "id": "82780656",
   "metadata": {},
   "source": [
    "Having derived the fit parameters $A$ and $B$ of the distribution:\n",
    "\\begin{equation}\n",
    "    D_{L,i} = A + B z_{i}\n",
    "\\end{equation}\n",
    "we can calculate the Hubble constant:\n",
    "\n",
    "Assume $A$ is consistent with zero (we will justify this in a moment), the relation we calculate through our least-squares fit is:\n",
    "\\begin{equation}\n",
    "    D_{L,i} \\simeq  B z_{i} .\n",
    "\\label{eq:HubbleFit}\n",
    "\\end{equation}\n",
    "\n",
    "We also know, as discussed above, that in the local Universe (z << 1) the Hubble constant can be defined as in Equation \\eqref{eq:HubbleLaw}, which is given by:\n",
    "\\begin{equation}\n",
    "    z = \\frac{H_{0}}{c} D_{H} \\simeq \\frac{H_{0}}{c} D_{L} .\n",
    "\\label{eq:HubbleEq}\n",
    "\\end{equation}\n",
    "\n",
    "Therefore, comparing Equations \\eqref{eq:HubbleFit} and \\eqref{eq:HubbleEq}, our fit parameter $B$ is related to the Hubble constant by:\n",
    "\\begin{equation}\n",
    "\\begin{aligned}\n",
    "    H_{0} & = \\frac{c}{B} \\\\\n",
    "        & = \\frac{3 \\times 10^{5} }{B \\times 10^{-6}} \\left[ \\text{km}/\\text{s}/\\text{Mpc} \\right] ,\n",
    "\\end{aligned}\n",
    "\\end{equation}\n",
    "where in the final line we put the result in the conventional units of $H_{0}$, km/s/Mpc (note that $B$ is calculated in units of parsec)"
   ]
  },
  {
   "cell_type": "markdown",
   "id": "00a28b6b",
   "metadata": {},
   "source": [
    "\n",
    "We obtain the following results for $H_{0}$:"
   ]
  },
  {
   "cell_type": "code",
   "execution_count": 14,
   "id": "da1c1aa2",
   "metadata": {},
   "outputs": [
    {
     "name": "stdout",
     "output_type": "stream",
     "text": [
      "65.8738181955385\n"
     ]
    }
   ],
   "source": [
    "HubbleConst=3.0*10.0**5.0/(Bfit*10.0**-6.0)\n",
    "print(HubbleConst)"
   ]
  },
  {
   "cell_type": "markdown",
   "id": "5790a4e3",
   "metadata": {},
   "source": [
    "**We calculate** $H_{0} \\simeq 66$ km/s/Mpc. **Comparing with the current result from Planck satellite**: $H_{0} \\simeq 67.4\\pm0.5$km/s/Mpc, that's not too bad for such a simplified analysis!"
   ]
  },
  {
   "cell_type": "markdown",
   "id": "d21458d4",
   "metadata": {},
   "source": [
    "\n",
    "**No analysis is complete without calculating the uncertainty in our measurement, though!**\n",
    "\n",
    "We can calculate the uncertainty in our least-squares fit for $H_{0}$ under the simplifying assumptions we made of uniform, equal errors for each measurement. Again, this is an unrealistic assumption for this data! But don't worry, we will do a more precise calculation soon. For now let's continue using this assumption to get analytic intuition for our results.\n"
   ]
  },
  {
   "cell_type": "markdown",
   "id": "4036bde7",
   "metadata": {},
   "source": [
    "Recall the general formula for error propagation, from Taylor Sect. 3.11:"
   ]
  },
  {
   "attachments": {},
   "cell_type": "markdown",
   "id": "e1f77c89",
   "metadata": {},
   "source": [
    "<div>\n",
    "<img src=\"Uncertainty_2.png\" width=\"500\"/>\n",
    "</div>"
   ]
  },
  {
   "cell_type": "markdown",
   "id": "a7bc5ac9",
   "metadata": {},
   "source": [
    "We can derive the uncertainties in our fit parameters $\\sigma_{A}$ and $\\sigma_{B}$ using the formula for error propagation above:"
   ]
  },
  {
   "cell_type": "markdown",
   "id": "d389e4ac",
   "metadata": {},
   "source": [
    "\\begin{equation}\n",
    "    \\sigma_{A} = \\sqrt{ \\sum_{i=1}^{N} \\left( \\frac{\\partial A}{\\partial y_{i}} \\sigma_{y} \\right)^{2}}\n",
    "\\label{eq:ErrGA}\n",
    "\\end{equation}\n",
    "\n",
    "\\begin{equation}\n",
    "    \\sigma_{B} = \\sqrt{ \\sum_{i=1}^{N} \\left( \\frac{\\partial B}{\\partial y_{i}} \\sigma_{y} \\right)^{2}}\n",
    "\\label{eq:ErrGB}\n",
    "\\end{equation}"
   ]
  },
  {
   "cell_type": "markdown",
   "id": "24cb0523",
   "metadata": {},
   "source": [
    "Taking the partial derivatives $\\partial A/\\partial y_{i}$ and $\\partial B/\\partial y_{i}$ of Equations \\eqref{eq:Afit} and \\eqref{eq:Bfit} above gives the result:"
   ]
  },
  {
   "cell_type": "markdown",
   "id": "5dea9d2a",
   "metadata": {},
   "source": [
    "\\begin{equation}\n",
    "    \\sigma_{A} = \\sigma_{y} \\sqrt{\\frac{\\sum_{i=1}^{N} x_{i}^{2} }{ \\Delta }}\n",
    "\\label{eq:ErrA}\n",
    "\\end{equation}\n",
    "\n",
    "\\begin{equation}\n",
    "    \\sigma_{B} = \\sigma_{y} \\sqrt{ \\frac{N}{\\Delta} }\n",
    "\\label{eq:ErrB}\n",
    "\\end{equation}"
   ]
  },
  {
   "cell_type": "markdown",
   "id": "6b7ad28b",
   "metadata": {},
   "source": [
    "So now let's add a calculation of the uncertainty in our fit parameters to our linear regression code:"
   ]
  },
  {
   "cell_type": "code",
   "execution_count": 15,
   "id": "3b86ec56",
   "metadata": {},
   "outputs": [
    {
     "name": "stdout",
     "output_type": "stream",
     "text": [
      "65.8738181955385 \\pm 0.7576366897458197\n"
     ]
    }
   ],
   "source": [
    "#Calculate the uncertainties in our least-squares fit to the local Distance vs Redshift data\n",
    "# assuming a linear distribution, a valid assumption in the local z<0.1 Universe\n",
    "#Assuming equal Gaussian uncertainties for each Distance measurement\n",
    "#Implementing the equations derived above\n",
    "\n",
    "\n",
    "def regressionErrorsUnweighted(xdat,Sigmay):\n",
    "    #fit the line ydat = A+B*xdat to the data\n",
    "    Delta = float(len(xdat))*np.sum(xdat*xdat)-(np.sum(xdat))**2.0\n",
    "    SigmaA = Sigmay*np.sqrt(np.sum(xdat*xdat)/Delta)\n",
    "    SigmaB = Sigmay*np.sqrt(float(len(xdat))/Delta)\n",
    "    return SigmaA,SigmaB\n",
    "\n",
    "#We need to arbitrarily choose something for the uncertainty in D_{L} if we are assuming it to be\n",
    "#equal for all measurements. Let's arbirily take the mean over all plus/minus errors:\n",
    "SigmaDist=np.mean(DistanceErrLoc.flatten())\n",
    "\n",
    "#Using the function above, calculate uncertainty in fit parameters\n",
    "AfitErr,BfitErr=regressionErrorsUnweighted(RedshiftLoc,SigmaDist)\n",
    "\n",
    "#print the value of the Hubble constant +/- uncertainty\n",
    "\n",
    "#Calculate the uncertainty in the Hubble constant from the uncertainty in the fit parameter B using\n",
    "#error propagation\n",
    "HubbleConstErr=BfitErr*3.0*10.0**5.0/(Bfit**2.0*10.0**-6.0)\n",
    "\n",
    "#print the value of the Hubble constant +/- uncertainty\n",
    "print(HubbleConst,'\\pm',HubbleConstErr)\n"
   ]
  },
  {
   "cell_type": "markdown",
   "id": "60102e79",
   "metadata": {},
   "source": [
    "We calculate $H_{0} \\simeq 65.8 \\pm 0.8$ km/s/Mpc. Again, comparing with the current result from Planck satellite, $H_{0} \\simeq 67.4\\pm0.5$km/s/Mpc, our simplistic fit is pretty good!"
   ]
  },
  {
   "cell_type": "markdown",
   "id": "946e0649",
   "metadata": {},
   "source": [
    "However, our simplistic treatment of errors as being equal for each measurement is not a true representation of the uncertainties in our data. **So now let's do something more accurate**. Although **we will continue assuming Gaussian uncertainties for our data**, let's **treat the uncertainty of each individual measurement** in a **weighted least-squares fit**..."
   ]
  },
  {
   "cell_type": "markdown",
   "id": "52725c0b",
   "metadata": {},
   "source": [
    "# Section 3: **Weighted** linear least-squares fit for the Hubble constant"
   ]
  },
  {
   "cell_type": "markdown",
   "id": "82633dc0",
   "metadata": {},
   "source": [
    "Now let's calculate the Hubble constant in the local Universe by calculating a linear fit to our Redshift $z$ vs. Distance $D_{L}$ data with a **weighted least-squares fit**. That is, now let's **consider the uncertainty in each $D_{L,i}$ measurement $\\sigma_{D_{L,i}}$**. We will **continue to assume that $\\sigma_{D_{L,i}}$ is Gaussian distributed** - in a future exercise we will explore ways to abandon this simplifying assumption as well, and consider the asymmetric uncertainties of our data (e.g. \"plus\" uncertainties different from \"minus\" uncertainties), but for now we consider this simpler case of **Gaussian uncertainties in a weighted fit**."
   ]
  },
  {
   "cell_type": "markdown",
   "id": "74f7af71",
   "metadata": {},
   "source": [
    "We can repeat the derivations above for the fit parameters $A$ and $B$, as well as their uncertainties, of a **linear least-squares fit** to the data of the form $y_{i} = A + B x_{i}$, generalizing to the case where **each measurement has a different uncertainty** $\\sigma_{y_{i}}$. The derivation is very similar to the discussion of the section above and I encourage you to derive it. For now we will simply the state the results from **Taylor Problems 8.9 and 8.19:**"
   ]
  },
  {
   "cell_type": "markdown",
   "id": "c6021034",
   "metadata": {},
   "source": [
    "Define the **weight** of each measurement, $w_{i}$, as $w_{i} = 1/\\sigma_{i}^{2}$. Then, according to the principle of maximum likelihood, the best estimates for $A$ and $B$ are:"
   ]
  },
  {
   "cell_type": "markdown",
   "id": "a548e8b6",
   "metadata": {},
   "source": [
    "\\begin{equation}\n",
    "    A = \\frac{ \\sum_{i=1}^{N} w_{i} x_{i}^{2} \\sum_{i=1}^{N} w_{i} x_{i} - \\sum_{i=1}^{N} w_{i} x_{i} \\sum_{i=1}^{N} w_{i} x_{i} y_{i} }{ \\Delta  }\n",
    "\\end{equation}\n",
    "and\n",
    "\\begin{equation}\n",
    "    B = \\frac{ \\sum_{i=1}^{N} w_{i} \\sum_{i=1}^{N} w_{i} x_{i} y_{i} - \\sum_{i=1}^{N} w_{i} x_{i} \\sum_{i=1}^{N} w_{i} y_{i} }{ \\Delta  }\n",
    "\\end{equation}\n",
    "where in this weighted case $\\Delta$ is defined as:\n",
    "\\begin{equation}\n",
    "    \\Delta = \\sum_{i=1}^{N} w_{i} \\sum_{i=1}^{N} w_{i} x_{i}^{2} - \\left( \\sum_{i=1}^{N} w_{i} x_{i} \\right)^{2} .\n",
    "\\end{equation}"
   ]
  },
  {
   "cell_type": "markdown",
   "id": "dcb91d87",
   "metadata": {},
   "source": [
    "Their uncertainties $\\sigma_{A}$ and $\\sigma_{B}$ calculated from the weighted least-squares fit are:"
   ]
  },
  {
   "cell_type": "markdown",
   "id": "3dec9a71",
   "metadata": {},
   "source": [
    "\\begin{equation}\n",
    "    \\sigma_{A} = \\sqrt{ \\frac{ \\sum_{i=1}^{N} w_{i} x_{i}^{2} }{ \\Delta } }\n",
    "\\end{equation}\n",
    "and\n",
    "\\begin{equation}\n",
    "    \\sigma_{B} = \\sqrt{ \\frac{ \\sum_{i=1}^{N} w_{i} }{ \\Delta } }\n",
    "\\end{equation}"
   ]
  },
  {
   "cell_type": "markdown",
   "id": "1b2bb1c8",
   "metadata": {},
   "source": [
    "Now using the relations above we can improve our linear least-square fit code to individually handle each uncertainty $\\sigma_{D_{L,i}}$:"
   ]
  },
  {
   "cell_type": "code",
   "execution_count": 16,
   "id": "a0058d05",
   "metadata": {},
   "outputs": [
    {
     "data": {
      "image/png": "[encoded data removed]",
      "text/plain": [
       "<Figure size 640x480 with 1 Axes>"
      ]
     },
     "metadata": {},
     "output_type": "display_data"
    }
   ],
   "source": [
    "#Weighted least-squares fit to the local Distance vs Redshift data\n",
    "# assuming a linear distribution, a valid assumption in the local z<0.1 Universe\n",
    "#Assuming Gaussian-distributed uncertainties for each individual Distance measurement\n",
    "\n",
    "#calculate linear fit parameters and uncertainties\n",
    "def regressionWeighted(xdat,ydat,yerr):\n",
    "    #weighted fit to the line ydat = A+B*xdat to the data\n",
    "    #xdat: array of x data\n",
    "    #ydat: array of y data\n",
    "    #yerr: array of uncertainties in y data\n",
    "    #returns: A,B,SigmaA,SigmaB\n",
    "    #of a weighted linear fit A+B*x to the data\n",
    "    \n",
    "    #construct the weights from yerr\n",
    "    weights=1.0/(yerr*yerr)\n",
    "    \n",
    "    Delta = np.sum(weights)*np.sum(weights*xdat*xdat)-(np.sum(weights*xdat))**2.0\n",
    "    #calculate fit parameters A, B\n",
    "    A = ( np.sum(weights*xdat*xdat)*np.sum(weights*ydat)-np.sum(weights*xdat)*np.sum(weights*xdat*ydat) )/Delta\n",
    "    B = ( np.sum(weights)*np.sum(weights*xdat*ydat)-np.sum(weights*xdat)*np.sum(weights*ydat) )/Delta\n",
    "    #calculate uncertainties of fit parameters\n",
    "    SigmaA = np.sqrt(np.sum(weights*xdat*xdat)/Delta)\n",
    "    SigmaB = np.sqrt(np.sum(weights)/Delta)\n",
    "    return A,B,SigmaA,SigmaB\n",
    "\n",
    "#Using the weighted least-squares fitting function above, fit a line to the local data:\n",
    "#Because of our simplifying assumption of Gaussian distributed errors, we have to simplify the data errors,\n",
    "#which are asymmetric. Here we choose to take the average of plus and minus uncertainties of each\n",
    "#individual measurement\n",
    "SigmawDist=np.mean(DistanceErrLoc.T, axis=1)\n",
    "\n",
    "#calculate the weighted least squares fit\n",
    "Awfit,Bwfit,AwfitErr,BwfitErr = regressionWeighted(RedshiftLoc,DistanceLoc,SigmawDist)\n",
    "\n",
    "#Now plot the result, along with the data for comparison:\n",
    "plt.xlabel('Redshift $z$', fontsize=15)\n",
    "plt.ylabel('Distance [parsec]', fontsize=15)\n",
    "plt.errorbar(RedshiftLoc,DistanceLoc,yerr=DistanceErrLoc,marker='.',linestyle='None',color='black')\n",
    "xarr=np.linspace(0.0,0.1,100)\n",
    "plt.plot(xarr,Awfit+Bwfit*xarr)\n",
    "#Also plot the unweighted fit with a red dashed line for comparison\n",
    "plt.plot(xarr,Afit+Bfit*xarr,linestyle='--', color='red')\n",
    "plt.show()"
   ]
  },
  {
   "cell_type": "markdown",
   "id": "89827643",
   "metadata": {},
   "source": [
    "In the plot above of $D_{L}$ vs $z$ data, the result of our weighted least-squares fit is shown with a blue line, while the unweighted least-squares is shown with a red dashed line for comparison."
   ]
  },
  {
   "cell_type": "markdown",
   "id": "a524f039",
   "metadata": {},
   "source": [
    "Now that we have fit the linear distribution to our data, let's again calculate $H_{0}$:"
   ]
  },
  {
   "cell_type": "code",
   "execution_count": 17,
   "id": "4df247fe",
   "metadata": {},
   "outputs": [
    {
     "name": "stdout",
     "output_type": "stream",
     "text": [
      "66.94076002391753 \\pm 0.7737638184539288\n"
     ]
    }
   ],
   "source": [
    "#Calculate the Hubble constant from the weighted fit parameter B in units of km/s/Mpc\n",
    "HubbleConstw=3.0*10.0**5.0/(Bwfit*10.0**-6.0)\n",
    "#Calculate the uncertainty in the Hubble constant from the uncertainty in the weighted fit parameter B using\n",
    "#error propagation\n",
    "HubbleConstwErr=BwfitErr*3.0*10.0**5.0/(Bwfit**2.0*10.0**-6.0)\n",
    "\n",
    "#print the value of the Hubble constant +/- uncertainty\n",
    "print(HubbleConstw,'\\pm',HubbleConstwErr)"
   ]
  },
  {
   "cell_type": "markdown",
   "id": "272a0756",
   "metadata": {},
   "source": [
    "From our weighted fit we calculate the Hubble constant and its uncertainty: $H_{0} \\simeq 66.9 \\pm 0.8$ km/s/Mpc, which is closer to the current result from Planck satellite of $H_{0} \\simeq 67.4\\pm0.5$km/s/Mpc than the unweighted fit we calculated in the last section, and happens to be within uncertainty of the Planck result!"
   ]
  },
  {
   "cell_type": "markdown",
   "id": "bb5172eb",
   "metadata": {},
   "source": [
    "# Section 4: Least-squares fit for the Hubble constant using SciPy"
   ]
  },
  {
   "cell_type": "markdown",
   "id": "05843dd4",
   "metadata": {},
   "source": [
    "Now let's move on to using a package in Python to fit for the Hubble constant from our $D_{L}$vs.$z$ data. Specifically, let's use curve_fit from scipy.optimize. This will be useful because curve_fit is a powerful tool we can use to fit more general functions to data. You can read about scipy.optimize.curve_fit in the documentation here:"
   ]
  },
  {
   "cell_type": "markdown",
   "id": "b63e8d59",
   "metadata": {},
   "source": [
    "https://docs.scipy.org/doc/scipy/reference/generated/scipy.optimize.curve_fit.html"
   ]
  },
  {
   "cell_type": "code",
   "execution_count": 18,
   "id": "4d63d845",
   "metadata": {},
   "outputs": [
    {
     "name": "stdout",
     "output_type": "stream",
     "text": [
      "Hubble's constant: 66.94076021552367 =/- 1.032869243944706\n"
     ]
    }
   ],
   "source": [
    "from scipy.optimize import curve_fit\n",
    "\n",
    "#define the functional form we want to fit, in this case a line:\n",
    "def fline(x,a,b):\n",
    "        return a+b*x\n",
    "    \n",
    "#calculate the weighted least squares fit\n",
    "ParamFits,ParamCov = curve_fit(fline,RedshiftLoc,DistanceLoc,sigma=np.mean(DistanceErrLoc.T, axis=1))\n",
    "\n",
    "#curve_fit returns the covariance matrix in ParamCov, whose diagonal elements are the squared errors\n",
    "ParamErrs=np.sqrt(np.diag(ParamCov))\n",
    "\n",
    "#print the calculated Hubble constant and its uncertainty\n",
    "\n",
    "print(\"Hubble's constant:\",3.0*10.0**5.0/(ParamFits[1]*10.0**-6.0),\"=/-\",ParamErrs[1]*3.0*10.0**5.0/(ParamFits[1]**2.0*10.0**-6.0))"
   ]
  },
  {
   "cell_type": "code",
   "execution_count": 19,
   "id": "0dc72806",
   "metadata": {},
   "outputs": [
    {
     "data": {
      "image/png": "[encoded data removed]",
      "text/plain": [
       "<Figure size 640x480 with 1 Axes>"
      ]
     },
     "metadata": {},
     "output_type": "display_data"
    }
   ],
   "source": [
    "#Now plot the result, along with the data for comparison:\n",
    "plt.xlabel('Redshift $z$', fontsize=15)\n",
    "plt.ylabel('Distance [parsec]', fontsize=15)\n",
    "plt.errorbar(RedshiftLoc,DistanceLoc,yerr=DistanceErrLoc,marker='.',linestyle='None',color='black')\n",
    "xarr=np.linspace(0.0,0.1,100)\n",
    "plt.plot(xarr,ParamFits[0]+ParamFits[1]*xarr)\n",
    "plt.show()"
   ]
  },
  {
   "cell_type": "markdown",
   "id": "e2bf3e34",
   "metadata": {},
   "source": [
    "With scipy.optimize.curve_fit we calculate: $H_{0} = 66.9 \\pm 1$ km/s/Mpc"
   ]
  },
  {
   "cell_type": "markdown",
   "id": "9d555071",
   "metadata": {},
   "source": [
    "Much easier (and more powerful) than our homegrown solver!"
   ]
  },
  {
   "cell_type": "markdown",
   "id": "c9e7aedf",
   "metadata": {},
   "source": [
    "# Section 5: Chi-squared test for the fit distribution"
   ]
  },
  {
   "cell_type": "markdown",
   "id": "42a134bb",
   "metadata": {},
   "source": [
    "Looking at the plots of our fit distribution, it looks like a good fit. But we need a more quantitive way to measure how well our fit distribution describes the data. We can do this with the Chi-squared test."
   ]
  },
  {
   "cell_type": "markdown",
   "id": "8910aaa5",
   "metadata": {},
   "source": [
    "Recall the definition of Chi-squared, $\\chi^{2}$ (e.g. from Chapter 12 of Taylor): If we make $N$ measurements, for which we know the expected values (from the distribution we assume) and standard deviations (uncertainties), then we can define $\\chi^{2}$ as:\n",
    "\\begin{equation}\n",
    "        \\chi^{2} = \\sum_{i=1}^{N} \\left( \\frac{\\text{Observed value} - \\text{Expected value} }{ \\text{Standard Deviation} }  \\right)^{2}\n",
    "\\end{equation}"
   ]
  },
  {
   "cell_type": "markdown",
   "id": "d6a43c02",
   "metadata": {},
   "source": [
    "If the assumed distribution is a correct description of the data then $\\chi^{2} \\leq N - c$, where $c$ is the number of constraints on our data (the number of parameters we fit)."
   ]
  },
  {
   "cell_type": "markdown",
   "id": "8398850b",
   "metadata": {},
   "source": [
    "Let's apply the $\\chi^{2}$ test to see how good our linear distribution fit is to the data for $D_{L}$vs.$z$:"
   ]
  },
  {
   "cell_type": "code",
   "execution_count": 20,
   "id": "22725e36",
   "metadata": {},
   "outputs": [],
   "source": [
    "#write a function to compute residuals of a linear fit\n",
    "def ComputeResid(x,y,yerr,A,B):\n",
    "    #x: an array of x data values\n",
    "    #y: an array of y data values\n",
    "    #yerr: an array of uncertainties in y\n",
    "    #A: zero-point of expected linear distribution\n",
    "    #B: slope of expected linear distribution\n",
    "    residuals=np.array([])\n",
    "    for i in range(len(x)):\n",
    "        resid=y[i]-(A + B*x[i])\n",
    "        residuals=np.append(residuals,resid/yerr[i])\n",
    "    return residuals"
   ]
  },
  {
   "cell_type": "code",
   "execution_count": 21,
   "id": "fa3f6d57",
   "metadata": {},
   "outputs": [
    {
     "name": "stdout",
     "output_type": "stream",
     "text": [
      "Chi-squared: 308.2620499719418\n"
     ]
    }
   ],
   "source": [
    "#compute the residuals of the linear distribution we fit\n",
    "Residuals=ComputeResid(RedshiftLoc,DistanceLoc,np.mean(DistanceErrLoc.T, axis=1),ParamFits[0],ParamFits[1])\n",
    "\n",
    "#compute Chi-squared from residuals\n",
    "Chi2=np.sum(Residuals*Residuals)\n",
    "print(\"Chi-squared:\",Chi2)"
   ]
  },
  {
   "cell_type": "markdown",
   "id": "930a0fda",
   "metadata": {},
   "source": [
    "Let's now define the reduced $\\chi^{2}$, $\\tilde{\\chi}^{2}$:\n",
    "\\begin{equation}\n",
    "    \\tilde{\\chi}^{2}=\\chi^{2}/d\n",
    "\\end{equation}\n",
    "where $d$ is the number of degrees of freedom, defined as the number of data points minus the number of constraints (fit parameters), $d=N-c$. In the case of a linear distribution $c=2$:"
   ]
  },
  {
   "cell_type": "code",
   "execution_count": 22,
   "id": "63332e79",
   "metadata": {},
   "outputs": [
    {
     "name": "stdout",
     "output_type": "stream",
     "text": [
      "Reduced Chi-squared: 1.7818615605314554\n"
     ]
    }
   ],
   "source": [
    "print(\"Reduced Chi-squared:\",Chi2/(len(Residuals)-2))"
   ]
  },
  {
   "cell_type": "markdown",
   "id": "f9856951",
   "metadata": {},
   "source": [
    "We get a value of $\\tilde{\\chi}^{2}$ which is resonably close to 1, so our linear fit is a reasonably good description of the data."
   ]
  },
  {
   "cell_type": "markdown",
   "id": "45a9f3e6",
   "metadata": {},
   "source": [
    "Let's also take a look at the distribution of residuals:"
   ]
  },
  {
   "cell_type": "code",
   "execution_count": 23,
   "id": "ddd98cd6",
   "metadata": {},
   "outputs": [
    {
     "data": {
      "image/png": "[encoded data removed]",
      "text/plain": [
       "<Figure size 640x480 with 1 Axes>"
      ]
     },
     "metadata": {},
     "output_type": "display_data"
    }
   ],
   "source": [
    "#Make a histogram of residuals of the data from our linear fit\n",
    "ChiHist,Bin_Edges=np.histogram(Residuals,bins=40)\n",
    "Bin_Centers=0.5*(Bin_Edges[1:]+Bin_Edges[:-1])\n",
    "Norm=len(Residuals)*(Bin_Edges[-1]-Bin_Edges[0])/40.0\n",
    "plt.errorbar(Bin_Centers,ChiHist/Norm,yerr=ChiHist**0.5/Norm,marker='.',drawstyle='steps-mid')\n",
    "\n",
    "#Plot a Gaussian over the histogram\n",
    "xv=np.arange(Bin_Edges[0],Bin_Edges[-1],0.05)\n",
    "GaussDist=stats.norm.pdf(xv,0,1)\n",
    "plt.plot(xv,GaussDist,'o-')\n",
    "plt.xlabel('Residuals')\n",
    "plt.ylabel('Probability')\n",
    "\n",
    "plt.show()"
   ]
  },
  {
   "cell_type": "markdown",
   "id": "46fddd9b",
   "metadata": {},
   "source": [
    "We see that the mean of the residuals of our fit is very close to 0, and the variance is very close to 1 (the normalized histogram of residuals is very close to a normal distribution with mean of zero and variance of 1). The **linear distribution we fit is an acceptable description of the $D_{L}$ vs. $z$ data**. Our calculation of the Hubble constant $H_{0}$ is good!"
   ]
  }
 ],
 "metadata": {
  "kernelspec": {
   "display_name": "Python 3 (ipykernel)",
   "language": "python",
   "name": "python3"
  },
  "language_info": {
   "codemirror_mode": {
    "name": "ipython",
    "version": 3
   },
   "file_extension": ".py",
   "mimetype": "text/x-python",
   "name": "python",
   "nbconvert_exporter": "python",
   "pygments_lexer": "ipython3",
   "version": "3.11.5"
  }
 },
 "nbformat": 4,
 "nbformat_minor": 5
}
